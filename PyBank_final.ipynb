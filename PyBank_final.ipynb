{
 "cells": [
  {
   "cell_type": "code",
   "execution_count": 32,
   "id": "cb163284",
   "metadata": {},
   "outputs": [],
   "source": [
    "# import everything needed for functions\n",
    "import pandas as pd"
   ]
  },
  {
   "cell_type": "code",
   "execution_count": 34,
   "id": "25e4afb3",
   "metadata": {},
   "outputs": [
    {
     "name": "stdout",
     "output_type": "stream",
     "text": [
      "Financial Analysis\n",
      "-------------------\n",
      "Total Months: 86\n",
      "Total: $22564198\n",
      "Greatest Increase in Profits: Aug-16 ($1862002.0)\n",
      "Greatest Decrease in Profits: Feb-14 ($-1825558.0)\n"
     ]
    }
   ],
   "source": [
    "#Read in File needed \n",
    "pybank_file = \"budget_data.csv\"\n",
    "\n",
    "df = pd.read_csv(pybank_file)\n",
    "#Count Total number of months\n",
    "total_months = df['Date'].count()\n",
    "\n",
    "#Sum up all numbers in Profit/Loss\n",
    "Total_Volume = df['Profit/Losses'].sum()\n",
    "\n",
    "#take the Profit/Loss and date column and convert to a list\n",
    "MoM_change = df['Profit/Losses'].tolist()\n",
    "\n",
    "Date_list = df['Date'].tolist()\n",
    "\n",
    "#Empty list for determining change over months\n",
    "change = []\n",
    "\n",
    "#convert string list to integer, months and PnL helped to verify the above lines... Not 100% necessary\n",
    "profits = [int(x) for x in MoM_change]\n",
    "months = len(MoM_change)\n",
    "PnL = sum(profits)\n",
    "\n",
    "#write a while loop that checks and writes each row to a new list so I can see what the largest and smallest change was \n",
    "i = 1\n",
    "while i <len(profits):\n",
    "    change.append(float(profits[i])-float(profits[i-1]))\n",
    "    i+=1\n",
    "largest_increase = max(change)\n",
    "largest_decrease = min(change)\n",
    "index_increase = change.index(largest_increase)\n",
    "index_decrease = change.index(largest_decrease)\n",
    "#Print out all the results\n",
    "print('Financial Analysis')\n",
    "print('-------------------')\n",
    "print('Total Months: ' + str(total_months))\n",
    "print('Total: ' + '$'+ str(PnL))\n",
    "print('Greatest Increase in Profits: ' + Date_list[79]+ ' '+ '($' + str(change[78])+')')\n",
    "print('Greatest Decrease in Profits: '+ Date_list[49]+ ' '+ '($'+str(change[48])+')')\n",
    "    \n"
   ]
  },
  {
   "cell_type": "code",
   "execution_count": null,
   "id": "82a8b0ce",
   "metadata": {},
   "outputs": [],
   "source": []
  }
 ],
 "metadata": {
  "kernelspec": {
   "display_name": "Python 3 (ipykernel)",
   "language": "python",
   "name": "python3"
  },
  "language_info": {
   "codemirror_mode": {
    "name": "ipython",
    "version": 3
   },
   "file_extension": ".py",
   "mimetype": "text/x-python",
   "name": "python",
   "nbconvert_exporter": "python",
   "pygments_lexer": "ipython3",
   "version": "3.9.7"
  }
 },
 "nbformat": 4,
 "nbformat_minor": 5
}
