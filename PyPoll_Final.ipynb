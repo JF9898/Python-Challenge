{
 "cells": [
  {
   "cell_type": "code",
   "execution_count": 43,
   "id": "35e70975",
   "metadata": {},
   "outputs": [],
   "source": [
    "import pandas as pd"
   ]
  },
  {
   "cell_type": "code",
   "execution_count": 44,
   "id": "bfde4de4",
   "metadata": {},
   "outputs": [
    {
     "name": "stdout",
     "output_type": "stream",
     "text": [
      "Election Results\n",
      "\n",
      "------------------------------------\n",
      "\n",
      "Total Votes: 369711\n",
      "\n",
      "------------------------------------\n",
      "\n",
      "Charles Casper Stockham: 23.05 (85213)\n",
      "\n",
      "Diana DeGette: 73.81 (272892)\n",
      "\n",
      "Raymon Anthony Doane: 3.14 (11606)\n",
      "\n",
      "-------------------------------------\n",
      "\n",
      "Winner: Diana DeGette\n",
      "\n",
      "-------------------------------------\n"
     ]
    }
   ],
   "source": [
    "#read in necessary data\n",
    "pypoll = 'election_data.csv'\n",
    "\n",
    "df = pd.read_csv(pypoll)\n",
    "\n",
    "#count the total amount of entries in the dataframe \n",
    "vote_count = df['Ballot ID'].count()\n",
    "\n",
    "#get a list of all candidates in the dataframe\n",
    "unique_candidate = df['Candidate'].unique()\n",
    "\n",
    "#separate the dataframe to count votes grouped by the candidate\n",
    "new_df = df.groupby('Candidate').count()\n",
    "\n",
    "#take the total votes per candidate and divide against the total votes to get percent, round to 2 decimal places\n",
    "candidate_vote_count = new_df['Ballot ID'].to_list()\n",
    "\n",
    "casper_percent = ((candidate_vote_count[0]/ vote_count)*100).round(2)\n",
    "\n",
    "diana_percent = ((candidate_vote_count[1]/vote_count)*100).round(2)\n",
    "\n",
    "raymon_percent = ((candidate_vote_count[2]/vote_count)*100).round(2)\n",
    "\n",
    "#final output of all needed variables printed out for easy reading\n",
    "\n",
    "print('Election Results')\n",
    "print()\n",
    "print('------------------------------------')\n",
    "print()\n",
    "print('Total Votes: ' + str(vote_count))\n",
    "print()\n",
    "print('------------------------------------')\n",
    "print()\n",
    "#combine all variables created in the cells above statement\n",
    "print(unique_candidate[0]+ ': ' + str(casper_percent) + ' (' + str(candidate_vote_count[0]) +')')\n",
    "print()\n",
    "print(unique_candidate[1]+ ': ' + str(diana_percent) + ' (' + str(candidate_vote_count[1]) +')')\n",
    "print()\n",
    "print(unique_candidate[2]+ ': ' + str(raymon_percent) + ' (' + str(candidate_vote_count[2]) +')')\n",
    "print()\n",
    "print('-------------------------------------')\n",
    "print()\n",
    "print('Winner: ' + unique_candidate[1])\n",
    "print()\n",
    "print('-------------------------------------')"
   ]
  },
  {
   "cell_type": "code",
   "execution_count": 3,
   "id": "2e1f9269",
   "metadata": {},
   "outputs": [
    {
     "data": {
      "text/plain": [
       "369711"
      ]
     },
     "execution_count": 3,
     "metadata": {},
     "output_type": "execute_result"
    }
   ],
   "source": []
  },
  {
   "cell_type": "code",
   "execution_count": 41,
   "id": "9d41eeb6",
   "metadata": {},
   "outputs": [
    {
     "data": {
      "text/plain": [
       "23.05"
      ]
     },
     "execution_count": 41,
     "metadata": {},
     "output_type": "execute_result"
    }
   ],
   "source": [
    "\n"
   ]
  },
  {
   "cell_type": "code",
   "execution_count": null,
   "id": "5eca596c",
   "metadata": {},
   "outputs": [],
   "source": []
  },
  {
   "cell_type": "code",
   "execution_count": null,
   "id": "bdd00473",
   "metadata": {},
   "outputs": [],
   "source": []
  }
 ],
 "metadata": {
  "kernelspec": {
   "display_name": "Python 3 (ipykernel)",
   "language": "python",
   "name": "python3"
  },
  "language_info": {
   "codemirror_mode": {
    "name": "ipython",
    "version": 3
   },
   "file_extension": ".py",
   "mimetype": "text/x-python",
   "name": "python",
   "nbconvert_exporter": "python",
   "pygments_lexer": "ipython3",
   "version": "3.9.7"
  }
 },
 "nbformat": 4,
 "nbformat_minor": 5
}
